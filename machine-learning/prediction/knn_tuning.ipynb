{
 "cells": [
  {
   "cell_type": "markdown",
   "id": "e4eb0048",
   "metadata": {},
   "source": [
    "# **K-Nearest Neighbors Regression to predict banana fruit ripeness**"
   ]
  },
  {
   "cell_type": "markdown",
   "id": "91e63d59",
   "metadata": {},
   "source": [
    "## Prerequisite"
   ]
  },
  {
   "cell_type": "markdown",
   "id": "75d6af82",
   "metadata": {},
   "source": [
    "### Import Library"
   ]
  },
  {
   "cell_type": "code",
   "execution_count": 1,
   "id": "3f86fe6c",
   "metadata": {},
   "outputs": [],
   "source": [
    "import os\n",
    "import json\n",
    "import requests\n",
    "import numpy as np\n",
    "import pandas as pd\n",
    "import matplotlib.pyplot as plt"
   ]
  },
  {
   "cell_type": "markdown",
   "id": "8e5d7616",
   "metadata": {},
   "source": [
    "## Data Preparation"
   ]
  },
  {
   "cell_type": "markdown",
   "id": "c816598d",
   "metadata": {},
   "source": [
    "### Load Data"
   ]
  },
  {
   "cell_type": "code",
   "execution_count": 7,
   "id": "0025d08e",
   "metadata": {},
   "outputs": [
    {
     "data": {
      "text/html": [
       "<div>\n",
       "<style scoped>\n",
       "    .dataframe tbody tr th:only-of-type {\n",
       "        vertical-align: middle;\n",
       "    }\n",
       "\n",
       "    .dataframe tbody tr th {\n",
       "        vertical-align: top;\n",
       "    }\n",
       "\n",
       "    .dataframe thead th {\n",
       "        text-align: right;\n",
       "    }\n",
       "</style>\n",
       "<table border=\"1\" class=\"dataframe\">\n",
       "  <thead>\n",
       "    <tr style=\"text-align: right;\">\n",
       "      <th></th>\n",
       "      <th>id</th>\n",
       "      <th>r</th>\n",
       "      <th>g</th>\n",
       "      <th>b</th>\n",
       "      <th>timestamp</th>\n",
       "      <th>ripeness</th>\n",
       "      <th>tvoc</th>\n",
       "      <th>nextPhase</th>\n",
       "    </tr>\n",
       "  </thead>\n",
       "  <tbody>\n",
       "    <tr>\n",
       "      <th>0</th>\n",
       "      <td>2fF8hHgm196LlVv1tMZQ</td>\n",
       "      <td>96</td>\n",
       "      <td>88</td>\n",
       "      <td>45</td>\n",
       "      <td>2025-09-23T16:54:39.806+07:00</td>\n",
       "      <td>raw</td>\n",
       "      <td>80.00</td>\n",
       "      <td>5.0</td>\n",
       "    </tr>\n",
       "    <tr>\n",
       "      <th>1</th>\n",
       "      <td>5IraNr1LCXt1VlWWwGqe</td>\n",
       "      <td>96</td>\n",
       "      <td>88</td>\n",
       "      <td>45</td>\n",
       "      <td>2025-09-19T14:45:00.000Z</td>\n",
       "      <td>raw</td>\n",
       "      <td>100.00</td>\n",
       "      <td>4.0</td>\n",
       "    </tr>\n",
       "    <tr>\n",
       "      <th>2</th>\n",
       "      <td>6WTCGhob7hdrQveQs9Gs</td>\n",
       "      <td>96</td>\n",
       "      <td>88</td>\n",
       "      <td>45</td>\n",
       "      <td>2025-09-25T16:14:27.681+07:00</td>\n",
       "      <td>ripe</td>\n",
       "      <td>220.00</td>\n",
       "      <td>1.0</td>\n",
       "    </tr>\n",
       "    <tr>\n",
       "      <th>3</th>\n",
       "      <td>8NfbnTOUg4kbwWZ2p8dB</td>\n",
       "      <td>96</td>\n",
       "      <td>88</td>\n",
       "      <td>45</td>\n",
       "      <td>2025-09-25T16:14:59.872+07:00</td>\n",
       "      <td>ripe</td>\n",
       "      <td>240.00</td>\n",
       "      <td>0.5</td>\n",
       "    </tr>\n",
       "    <tr>\n",
       "      <th>4</th>\n",
       "      <td>BQzhAhbf9ILvHnIsqVwF</td>\n",
       "      <td>96</td>\n",
       "      <td>88</td>\n",
       "      <td>45</td>\n",
       "      <td>2025-09-25T18:47:03.223+07:00</td>\n",
       "      <td>unlabeled</td>\n",
       "      <td>0.54</td>\n",
       "      <td>-1.0</td>\n",
       "    </tr>\n",
       "  </tbody>\n",
       "</table>\n",
       "</div>"
      ],
      "text/plain": [
       "                     id   r   g   b                      timestamp   ripeness  \\\n",
       "0  2fF8hHgm196LlVv1tMZQ  96  88  45  2025-09-23T16:54:39.806+07:00        raw   \n",
       "1  5IraNr1LCXt1VlWWwGqe  96  88  45       2025-09-19T14:45:00.000Z        raw   \n",
       "2  6WTCGhob7hdrQveQs9Gs  96  88  45  2025-09-25T16:14:27.681+07:00       ripe   \n",
       "3  8NfbnTOUg4kbwWZ2p8dB  96  88  45  2025-09-25T16:14:59.872+07:00       ripe   \n",
       "4  BQzhAhbf9ILvHnIsqVwF  96  88  45  2025-09-25T18:47:03.223+07:00  unlabeled   \n",
       "\n",
       "     tvoc  nextPhase  \n",
       "0   80.00        5.0  \n",
       "1  100.00        4.0  \n",
       "2  220.00        1.0  \n",
       "3  240.00        0.5  \n",
       "4    0.54       -1.0  "
      ]
     },
     "metadata": {},
     "output_type": "display_data"
    }
   ],
   "source": [
    "# GET data from REST API\n",
    "url = \"https://banana-ripeness-predictor.vercel.app/api/training\"\n",
    "response = requests.get(url)\n",
    "\n",
    "if response.status_code == 200:\n",
    "    data = response.json()\n",
    "    df = pd.DataFrame(data)\n",
    "    display(df.head())\n",
    "else:\n",
    "    print(\"Failed load data:\", response.status_code)"
   ]
  },
  {
   "cell_type": "markdown",
   "id": "09a05c83",
   "metadata": {},
   "source": [
    "### Preprocessing"
   ]
  },
  {
   "cell_type": "code",
   "execution_count": 8,
   "id": "92c36d4e",
   "metadata": {},
   "outputs": [
    {
     "data": {
      "text/html": [
       "<div>\n",
       "<style scoped>\n",
       "    .dataframe tbody tr th:only-of-type {\n",
       "        vertical-align: middle;\n",
       "    }\n",
       "\n",
       "    .dataframe tbody tr th {\n",
       "        vertical-align: top;\n",
       "    }\n",
       "\n",
       "    .dataframe thead th {\n",
       "        text-align: right;\n",
       "    }\n",
       "</style>\n",
       "<table border=\"1\" class=\"dataframe\">\n",
       "  <thead>\n",
       "    <tr style=\"text-align: right;\">\n",
       "      <th></th>\n",
       "      <th>tvoc</th>\n",
       "      <th>nextPhase</th>\n",
       "      <th>ripeness_raw</th>\n",
       "      <th>ripeness_ripe</th>\n",
       "      <th>ripeness_spoiled</th>\n",
       "      <th>ripeness_unlabeled</th>\n",
       "    </tr>\n",
       "  </thead>\n",
       "  <tbody>\n",
       "    <tr>\n",
       "      <th>0</th>\n",
       "      <td>0.306251</td>\n",
       "      <td>5.0</td>\n",
       "      <td>True</td>\n",
       "      <td>False</td>\n",
       "      <td>False</td>\n",
       "      <td>False</td>\n",
       "    </tr>\n",
       "    <tr>\n",
       "      <th>1</th>\n",
       "      <td>0.383335</td>\n",
       "      <td>4.0</td>\n",
       "      <td>True</td>\n",
       "      <td>False</td>\n",
       "      <td>False</td>\n",
       "      <td>False</td>\n",
       "    </tr>\n",
       "    <tr>\n",
       "      <th>2</th>\n",
       "      <td>0.845834</td>\n",
       "      <td>1.0</td>\n",
       "      <td>False</td>\n",
       "      <td>True</td>\n",
       "      <td>False</td>\n",
       "      <td>False</td>\n",
       "    </tr>\n",
       "    <tr>\n",
       "      <th>3</th>\n",
       "      <td>0.922917</td>\n",
       "      <td>0.5</td>\n",
       "      <td>False</td>\n",
       "      <td>True</td>\n",
       "      <td>False</td>\n",
       "      <td>False</td>\n",
       "    </tr>\n",
       "    <tr>\n",
       "      <th>4</th>\n",
       "      <td>0.000000</td>\n",
       "      <td>-1.0</td>\n",
       "      <td>False</td>\n",
       "      <td>False</td>\n",
       "      <td>False</td>\n",
       "      <td>True</td>\n",
       "    </tr>\n",
       "  </tbody>\n",
       "</table>\n",
       "</div>"
      ],
      "text/plain": [
       "       tvoc  nextPhase  ripeness_raw  ripeness_ripe  ripeness_spoiled  \\\n",
       "0  0.306251        5.0          True          False             False   \n",
       "1  0.383335        4.0          True          False             False   \n",
       "2  0.845834        1.0         False           True             False   \n",
       "3  0.922917        0.5         False           True             False   \n",
       "4  0.000000       -1.0         False          False             False   \n",
       "\n",
       "   ripeness_unlabeled  \n",
       "0               False  \n",
       "1               False  \n",
       "2               False  \n",
       "3               False  \n",
       "4                True  "
      ]
     },
     "metadata": {},
     "output_type": "display_data"
    }
   ],
   "source": [
    "# Select relevant attributes\n",
    "df = df[[\"tvoc\", \"ripeness\", \"nextPhase\"]]\n",
    "\n",
    "# Imputation if there are missing values\n",
    "df = df.fillna(df.mean(numeric_only=True))\n",
    "\n",
    "# Encoding categorical column 'ripeness'\n",
    "df = pd.get_dummies(df, columns=[\"ripeness\"])\n",
    "\n",
    "# Normalisasi tvoc\n",
    "df[\"tvoc\"] = (df[\"tvoc\"] - df[\"tvoc\"].min()) / (df[\"tvoc\"].max() - df[\"tvoc\"].min())\n",
    "\n",
    "display(df.head())"
   ]
  },
  {
   "cell_type": "markdown",
   "id": "f7074c8a",
   "metadata": {},
   "source": [
    "### Split Data"
   ]
  },
  {
   "cell_type": "code",
   "execution_count": 9,
   "id": "f87dbdf5",
   "metadata": {},
   "outputs": [
    {
     "name": "stdout",
     "output_type": "stream",
     "text": [
      "Dimensions of train data: (16, 5)\n",
      "Dimensions of test data: (5, 5)\n"
     ]
    }
   ],
   "source": [
    "# X = features (tvoc + ripeness encoded), y = target (nextPhase)\n",
    "X = df.drop(\"nextPhase\", axis=1).values\n",
    "y = df[\"nextPhase\"].values\n",
    "\n",
    "# Define function to split data\n",
    "def train_test_split(X, y, test_size=0.2, random_state=None):\n",
    "    n = len(X)\n",
    "    indices = np.arange(n)\n",
    "    if random_state is not None:\n",
    "        np.random.seed(random_state)\n",
    "    np.random.shuffle(indices)\n",
    "    \n",
    "    split = int(n * (1 - test_size))\n",
    "    train_idx, test_idx = indices[:split], indices[split:]\n",
    "    \n",
    "    return X[train_idx], X[test_idx], y[train_idx], y[test_idx]\n",
    "\n",
    "# Split data into train and test\n",
    "X_train, X_test, y_train, y_test = train_test_split(X, y, test_size=0.2, random_state=42)\n",
    "\n",
    "print(\"Dimensions of train data:\", X_train.shape)\n",
    "print(\"Dimensions of test data:\", X_test.shape)"
   ]
  },
  {
   "cell_type": "markdown",
   "id": "f3765e86",
   "metadata": {},
   "source": [
    "## Tuning"
   ]
  },
  {
   "cell_type": "markdown",
   "id": "7a0bfe53",
   "metadata": {},
   "source": [
    "### Definition of KNN Core Functions"
   ]
  },
  {
   "cell_type": "code",
   "execution_count": 10,
   "id": "ef53eea6",
   "metadata": {},
   "outputs": [],
   "source": [
    "# KNN (regression) core functions\n",
    "def euclidean_distance(x1, x2):\n",
    "    \"\"\"Calculate the Euclidean distance between two vectors\"\"\"\n",
    "    return np.sqrt(np.sum((x1 - x2) ** 2))\n",
    "\n",
    "def predict_knn(x_new, X_train, y_train, k):\n",
    "    \"\"\"Prediction of 1 new data with KNN regression\"\"\"\n",
    "    distances = [euclidean_distance(x_new, x) for x in X_train]\n",
    "    k_idx = np.argsort(distances)[:k]\n",
    "    return np.mean(y_train[k_idx])   # regresi → rata-rata target tetangga\n",
    "\n",
    "def evaluate_knn(X_val, y_val, X_train, y_train, k):\n",
    "    \"\"\"KNN evaluation for 1 value of k\"\"\"\n",
    "    preds = [predict_knn(x, X_train, y_train, k) for x in X_val]\n",
    "    \n",
    "    mae = np.mean(np.abs(y_val - preds))\n",
    "    rmse = np.sqrt(np.mean((y_val - preds) ** 2))\n",
    "    ss_res = np.sum((y_val - preds) ** 2)\n",
    "    ss_tot = np.sum((y_val - np.mean(y_val)) ** 2)\n",
    "    r2 = 1 - ss_res/ss_tot\n",
    "    \n",
    "    return {\"k\": k, \"MAE\": mae, \"RMSE\": rmse, \"R2\": r2}"
   ]
  },
  {
   "cell_type": "markdown",
   "id": "d67ce84e",
   "metadata": {},
   "source": [
    "### Loop Tuning k"
   ]
  },
  {
   "cell_type": "code",
   "execution_count": 11,
   "id": "c7475deb",
   "metadata": {},
   "outputs": [
    {
     "data": {
      "text/html": [
       "<div>\n",
       "<style scoped>\n",
       "    .dataframe tbody tr th:only-of-type {\n",
       "        vertical-align: middle;\n",
       "    }\n",
       "\n",
       "    .dataframe tbody tr th {\n",
       "        vertical-align: top;\n",
       "    }\n",
       "\n",
       "    .dataframe thead th {\n",
       "        text-align: right;\n",
       "    }\n",
       "</style>\n",
       "<table border=\"1\" class=\"dataframe\">\n",
       "  <thead>\n",
       "    <tr style=\"text-align: right;\">\n",
       "      <th></th>\n",
       "      <th>k</th>\n",
       "      <th>MAE</th>\n",
       "      <th>RMSE</th>\n",
       "      <th>R2</th>\n",
       "    </tr>\n",
       "  </thead>\n",
       "  <tbody>\n",
       "    <tr>\n",
       "      <th>0</th>\n",
       "      <td>1</td>\n",
       "      <td>0.400000</td>\n",
       "      <td>0.632456</td>\n",
       "      <td>0.868421</td>\n",
       "    </tr>\n",
       "    <tr>\n",
       "      <th>1</th>\n",
       "      <td>2</td>\n",
       "      <td>0.300000</td>\n",
       "      <td>0.670820</td>\n",
       "      <td>0.851974</td>\n",
       "    </tr>\n",
       "    <tr>\n",
       "      <th>2</th>\n",
       "      <td>3</td>\n",
       "      <td>0.500000</td>\n",
       "      <td>0.872417</td>\n",
       "      <td>0.749635</td>\n",
       "    </tr>\n",
       "    <tr>\n",
       "      <th>3</th>\n",
       "      <td>4</td>\n",
       "      <td>0.625000</td>\n",
       "      <td>1.007782</td>\n",
       "      <td>0.665913</td>\n",
       "    </tr>\n",
       "    <tr>\n",
       "      <th>4</th>\n",
       "      <td>5</td>\n",
       "      <td>0.500000</td>\n",
       "      <td>0.806226</td>\n",
       "      <td>0.786184</td>\n",
       "    </tr>\n",
       "    <tr>\n",
       "      <th>5</th>\n",
       "      <td>6</td>\n",
       "      <td>0.483333</td>\n",
       "      <td>0.837490</td>\n",
       "      <td>0.769280</td>\n",
       "    </tr>\n",
       "    <tr>\n",
       "      <th>6</th>\n",
       "      <td>7</td>\n",
       "      <td>0.342857</td>\n",
       "      <td>0.627597</td>\n",
       "      <td>0.870435</td>\n",
       "    </tr>\n",
       "    <tr>\n",
       "      <th>7</th>\n",
       "      <td>8</td>\n",
       "      <td>0.200000</td>\n",
       "      <td>0.420193</td>\n",
       "      <td>0.941920</td>\n",
       "    </tr>\n",
       "    <tr>\n",
       "      <th>8</th>\n",
       "      <td>9</td>\n",
       "      <td>0.711111</td>\n",
       "      <td>0.780155</td>\n",
       "      <td>0.799789</td>\n",
       "    </tr>\n",
       "    <tr>\n",
       "      <th>9</th>\n",
       "      <td>10</td>\n",
       "      <td>1.080000</td>\n",
       "      <td>1.125611</td>\n",
       "      <td>0.583224</td>\n",
       "    </tr>\n",
       "  </tbody>\n",
       "</table>\n",
       "</div>"
      ],
      "text/plain": [
       "    k       MAE      RMSE        R2\n",
       "0   1  0.400000  0.632456  0.868421\n",
       "1   2  0.300000  0.670820  0.851974\n",
       "2   3  0.500000  0.872417  0.749635\n",
       "3   4  0.625000  1.007782  0.665913\n",
       "4   5  0.500000  0.806226  0.786184\n",
       "5   6  0.483333  0.837490  0.769280\n",
       "6   7  0.342857  0.627597  0.870435\n",
       "7   8  0.200000  0.420193  0.941920\n",
       "8   9  0.711111  0.780155  0.799789\n",
       "9  10  1.080000  1.125611  0.583224"
      ]
     },
     "execution_count": 11,
     "metadata": {},
     "output_type": "execute_result"
    }
   ],
   "source": [
    "# Test the k value from 1 to 10\n",
    "k_values = range(1, 11)\n",
    "tuning_results = []\n",
    "\n",
    "for k in k_values:\n",
    "    result = evaluate_knn(X_test, y_test, X_train, y_train, k)\n",
    "    tuning_results.append(result)\n",
    "\n",
    "# Convert to DataFrame for analysis\n",
    "results_df = pd.DataFrame(tuning_results)\n",
    "results_df"
   ]
  },
  {
   "cell_type": "markdown",
   "id": "37b4b082",
   "metadata": {},
   "source": [
    "### Tuning Results Visualization"
   ]
  },
  {
   "cell_type": "code",
   "execution_count": 12,
   "id": "58758575",
   "metadata": {},
   "outputs": [
    {
     "data": {
      "image/png": "[encoded data removed]",
      "text/plain": [
       "<Figure size 1000x500 with 1 Axes>"
      ]
     },
     "metadata": {},
     "output_type": "display_data"
    }
   ],
   "source": [
    "# Visualization of the performance of each k\n",
    "plt.figure(figsize=(10, 5))\n",
    "plt.plot(results_df[\"k\"], results_df[\"MAE\"], label=\"MAE\", marker=\"o\")\n",
    "plt.plot(results_df[\"k\"], results_df[\"RMSE\"], label=\"RMSE\", marker=\"s\")\n",
    "plt.plot(results_df[\"k\"], results_df[\"R2\"], label=\"R²\", marker=\"^\")\n",
    "plt.xlabel(\"k Value\")\n",
    "plt.ylabel(\"Evaluation Score\")\n",
    "plt.title(\"Tuning k on KNN Regression\")\n",
    "plt.legend()\n",
    "plt.grid(True)\n",
    "plt.show()"
   ]
  },
  {
   "cell_type": "markdown",
   "id": "672bf023",
   "metadata": {},
   "source": [
    "### Select k Optimal"
   ]
  },
  {
   "cell_type": "code",
   "execution_count": 13,
   "id": "3951fdab",
   "metadata": {},
   "outputs": [
    {
     "name": "stdout",
     "output_type": "stream",
     "text": [
      "k optimal: 8\n",
      "Best evaluation score:\n",
      "k       8.000000\n",
      "MAE     0.200000\n",
      "RMSE    0.420193\n",
      "R2      0.941920\n",
      "Name: 7, dtype: float64\n"
     ]
    }
   ],
   "source": [
    "# Choose k with the smallest RMSE\n",
    "best_row = results_df.loc[results_df[\"RMSE\"].idxmin()]\n",
    "best_k = int(best_row[\"k\"])\n",
    "\n",
    "print(\"k optimal:\", best_k)\n",
    "print(\"Best evaluation score:\")\n",
    "print(best_row)"
   ]
  },
  {
   "cell_type": "markdown",
   "id": "c1ad9eb7",
   "metadata": {},
   "source": [
    "### Final Evaluation"
   ]
  },
  {
   "cell_type": "code",
   "execution_count": 14,
   "id": "1292c386",
   "metadata": {},
   "outputs": [],
   "source": [
    "# Finalization of the KNN model with the best k\n",
    "model_config = {\n",
    "    \"k\": best_k,\n",
    "    \"X_train\": X_train.tolist(),\n",
    "    \"y_train\": y_train.tolist()\n",
    "}"
   ]
  },
  {
   "cell_type": "markdown",
   "id": "0c8958af",
   "metadata": {},
   "source": [
    "## Deployment"
   ]
  },
  {
   "cell_type": "markdown",
   "id": "09010b15",
   "metadata": {},
   "source": [
    "### Save Config File"
   ]
  },
  {
   "cell_type": "code",
   "execution_count": 19,
   "id": "04945092",
   "metadata": {},
   "outputs": [
    {
     "name": "stdout",
     "output_type": "stream",
     "text": [
      "Model configuration successfully saved to '../../backend/services/prediction/knn_model_config.json'\n"
     ]
    }
   ],
   "source": [
    "def save_model_to_json(model_config, filename=\"../../backend/services/prediction/knn_model_config.json\"):\n",
    "    \"\"\"Save the KNN model configuration to a JSON file, creating folder if needed.\"\"\"\n",
    "    try:\n",
    "        # Make sure the destination folder exists\n",
    "        folder = os.path.dirname(filename)\n",
    "        os.makedirs(folder, exist_ok=True)\n",
    "\n",
    "        # Save file\n",
    "        with open(filename, \"w\") as f:\n",
    "            json.dump(model_config, f, indent=2)\n",
    "        print(f\"Model configuration successfully saved to '{filename}'\")\n",
    "    except Exception as e:\n",
    "        print(\"Failed to save model:\", e)\n",
    "\n",
    "# Save model\n",
    "save_model_to_json(model_config)"
   ]
  }
 ],
 "metadata": {
  "kernelspec": {
   "display_name": "Python 3",
   "language": "python",
   "name": "python3"
  },
  "language_info": {
   "codemirror_mode": {
    "name": "ipython",
    "version": 3
   },
   "file_extension": ".py",
   "mimetype": "text/x-python",
   "name": "python",
   "nbconvert_exporter": "python",
   "pygments_lexer": "ipython3",
   "version": "3.10.12"
  }
 },
 "nbformat": 4,
 "nbformat_minor": 5
}
